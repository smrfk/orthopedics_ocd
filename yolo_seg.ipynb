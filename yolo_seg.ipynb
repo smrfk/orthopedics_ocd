{
 "cells": [
  {
   "cell_type": "code",
   "execution_count": null,
   "metadata": {},
   "outputs": [],
   "source": [
    "import ultralytics\n",
    "ultralytics.checks()"
   ]
  },
  {
   "cell_type": "code",
   "execution_count": null,
   "metadata": {},
   "outputs": [],
   "source": [
    "import pandas as pd \n",
    "import os \n",
    "import tqdm\n",
    "import shutil\n",
    "from shutil import copyfile\n",
    "from sklearn.model_selection import train_test_split\n",
    "from ultralytics import YOLO"
   ]
  },
  {
   "cell_type": "code",
   "execution_count": null,
   "metadata": {},
   "outputs": [],
   "source": [
    "folder_path = r\"C:\\Users\\fukud\\Documents\\orthopedics\\ultralytics-main\\examples\\export\"  # フォルダのパスを指定\n",
    "\n",
    "jpg_files = [f for f in os.listdir(folder_path) if f.endswith('.jpg')]\n",
    "txt_files = [f for f in os.listdir(folder_path) if f.endswith('.txt')]\n",
    "\n",
    "for jpg_file in jpg_files:\n",
    "    txt_file = jpg_file.replace('.jpg', '.txt')\n",
    "    if txt_file not in txt_files:\n",
    "        print(f\"{jpg_file}とペアになっているtxtファイルが存在しません。\")"
   ]
  },
  {
   "cell_type": "code",
   "execution_count": null,
   "metadata": {},
   "outputs": [],
   "source": [
    "folder_path = r\"C:\\Users\\fukud\\Documents\\orthopedics\\ultralytics-main\\examples\\export\"  # フォルダのパスを指定\n",
    "\n",
    "jpg_files = [f for f in os.listdir(folder_path) if f.endswith('.jpg')]\n",
    "\n",
    "# フォルダを作成\n",
    "train_folder_path = os.path.join(folder_path, \"train\")\n",
    "os.makedirs(train_folder_path, exist_ok=True)\n",
    "test_folder_path = os.path.join(folder_path, \"test\")\n",
    "os.makedirs(test_folder_path, exist_ok=True)\n",
    "train_image_folder_path = os.path.join(train_folder_path, \"images\")\n",
    "os.makedirs(train_image_folder_path, exist_ok=True)\n",
    "train_label_folder_path = os.path.join(train_folder_path, \"labels\")\n",
    "os.makedirs(train_label_folder_path, exist_ok=True)\n",
    "test_image_folder_path = os.path.join(test_folder_path, \"images\")\n",
    "os.makedirs(test_image_folder_path, exist_ok=True)\n",
    "test_label_folder_path = os.path.join(test_folder_path, \"labels\")\n",
    "os.makedirs(test_label_folder_path, exist_ok=True)\n",
    "\n",
    "# ファイルをランダムに分割してコピー\n",
    "train_files, test_files = train_test_split(jpg_files, test_size=0.2, random_state=42)\n",
    "#print(train_files)\n",
    "\n",
    "for file in train_files:\n",
    "    jpg_path = os.path.join(folder_path, file)\n",
    "    #print(jpg_path)\n",
    "    txt_path = os.path.join(folder_path, file.replace('.jpg', '.txt'))\n",
    "    copyfile(jpg_path, os.path.join(train_image_folder_path, file))\n",
    "    copyfile(txt_path, os.path.join(train_label_folder_path, file.replace('.jpg', '.txt')))\n",
    "\n",
    "for file in test_files:\n",
    "    jpg_path = os.path.join(folder_path, file)\n",
    "    txt_path = os.path.join(folder_path, file.replace('.jpg', '.txt'))\n",
    "    copyfile(jpg_path, os.path.join(test_image_folder_path, file))\n",
    "    copyfile(txt_path, os.path.join(test_label_folder_path, file.replace('.jpg', '.txt')))\n"
   ]
  },
  {
   "cell_type": "code",
   "execution_count": null,
   "metadata": {},
   "outputs": [],
   "source": [
    "model = YOLO('yolov8n.pt')  # load a pretrained YOLOv8n detection model\n",
    "model.train(data='data.yaml', epochs=200)  # train the model, 4min/epoch"
   ]
  },
  {
   "cell_type": "code",
   "execution_count": null,
   "metadata": {},
   "outputs": [],
   "source": [
    "model = YOLO('yolov8m.pt')  # load a pretrained YOLOv8m detection model\n",
    "model.train(data='data.yaml', epochs=200, batch=8)  # train the model"
   ]
  }
 ],
 "metadata": {
  "language_info": {
   "name": "python"
  },
  "orig_nbformat": 4
 },
 "nbformat": 4,
 "nbformat_minor": 2
}
